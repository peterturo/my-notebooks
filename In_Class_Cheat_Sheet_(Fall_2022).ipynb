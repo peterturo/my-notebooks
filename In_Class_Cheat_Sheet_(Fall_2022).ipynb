{
  "nbformat": 4,
  "nbformat_minor": 0,
  "metadata": {
    "colab": {
      "name": "In Class Cheat Sheet (Fall 2022)",
      "provenance": [],
      "authorship_tag": "ABX9TyMPNldorBb1GDct5M/w7bIw",
      "include_colab_link": true
    },
    "kernelspec": {
      "name": "python3",
      "display_name": "Python 3"
    },
    "language_info": {
      "name": "python"
    }
  },
  "cells": [
    {
      "cell_type": "markdown",
      "metadata": {
        "id": "view-in-github",
        "colab_type": "text"
      },
      "source": [
        "<a href=\"https://colab.research.google.com/github/peterturo/my-notebooks/blob/main/In_Class_Cheat_Sheet_(Fall_2022).ipynb\" target=\"_parent\"><img src=\"https://colab.research.google.com/assets/colab-badge.svg\" alt=\"Open In Colab\"/></a>"
      ]
    },
    {
      "cell_type": "markdown",
      "source": [
        "# Comments"
      ],
      "metadata": {
        "id": "j8wXXt23rBXk"
      }
    },
    {
      "cell_type": "markdown",
      "source": [
        "# Variables"
      ],
      "metadata": {
        "id": "TDLuAhPGmkgO"
      }
    },
    {
      "cell_type": "markdown",
      "source": [
        "variable assignment in Python uses a single equals sign"
      ],
      "metadata": {
        "id": "id4B4ho5p85T"
      }
    },
    {
      "cell_type": "code",
      "source": [
        "a1 = 10\n",
        "\n",
        "a2 = 20\n",
        "\n",
        "\n",
        "a1 * 100"
      ],
      "metadata": {
        "colab": {
          "base_uri": "https://localhost:8080/"
        },
        "id": "4BTtGfF1mpnG",
        "outputId": "2a2ddc37-41c4-40a9-cb92-0d2b187279cb"
      },
      "execution_count": 4,
      "outputs": [
        {
          "output_type": "execute_result",
          "data": {
            "text/plain": [
              "1000"
            ]
          },
          "metadata": {},
          "execution_count": 4
        }
      ]
    },
    {
      "cell_type": "code",
      "source": [
        "x = 3\n",
        "print(x)\n",
        "\n",
        "x = 5\n",
        "print(x)\n",
        "\n",
        "x = x + 10\n",
        "print(x)\n",
        "\n"
      ],
      "metadata": {
        "colab": {
          "base_uri": "https://localhost:8080/"
        },
        "id": "1mcvADJdqBm1",
        "outputId": "51d1e01c-80a9-42f0-d7a4-97442ee53d8b"
      },
      "execution_count": 14,
      "outputs": [
        {
          "output_type": "stream",
          "name": "stdout",
          "text": [
            "3\n",
            "5\n",
            "15\n"
          ]
        }
      ]
    },
    {
      "cell_type": "markdown",
      "source": [
        "# Outputs\n"
      ],
      "metadata": {
        "id": "BzwD1p6RmcI3"
      }
    },
    {
      "cell_type": "code",
      "execution_count": 5,
      "metadata": {
        "colab": {
          "base_uri": "https://localhost:8080/"
        },
        "id": "TXSlj3w5l3M5",
        "outputId": "e5cd7eec-294b-4a92-ac3d-c584a88932f8"
      },
      "outputs": [
        {
          "output_type": "stream",
          "name": "stdout",
          "text": [
            "1000\n",
            "100\n",
            "15\n"
          ]
        }
      ],
      "source": [
        "print(a1 * 100)\n",
        "print(a1 * 10)\n",
        "print(a1 + 5)"
      ]
    },
    {
      "cell_type": "code",
      "source": [
        "print(10)\n",
        "print(\"Hello World\")\n",
        "print(10, \"Hello World\", 100, 20, True)"
      ],
      "metadata": {
        "colab": {
          "base_uri": "https://localhost:8080/"
        },
        "id": "g-CunNhPpa1j",
        "outputId": "36a43dc4-4da3-4fd9-edb5-61469beb7b3e"
      },
      "execution_count": 6,
      "outputs": [
        {
          "output_type": "stream",
          "name": "stdout",
          "text": [
            "10\n",
            "Hello World\n",
            "10 Hello World 100 20 True\n"
          ]
        }
      ]
    },
    {
      "cell_type": "markdown",
      "source": [
        "# Inputs"
      ],
      "metadata": {
        "id": "Hhgai-XNmfzO"
      }
    },
    {
      "cell_type": "code",
      "source": [
        "fav_flavor = input(\"What's Your Fav Ice Cream Flavor?\")\n",
        "\n",
        "print(\"You Chose: \", fav_flavor)\n",
        "\n"
      ],
      "metadata": {
        "colab": {
          "base_uri": "https://localhost:8080/"
        },
        "id": "U8UFxDhVmq1J",
        "outputId": "acee43fc-672d-46aa-ddd0-9eb782a207c5"
      },
      "execution_count": 18,
      "outputs": [
        {
          "output_type": "stream",
          "name": "stdout",
          "text": [
            "What's Your Fav Ice Cream Flavor? Vanilla\n",
            "You Chose:   Vanilla\n"
          ]
        }
      ]
    },
    {
      "cell_type": "markdown",
      "source": [
        "# Basic Datatypes"
      ],
      "metadata": {
        "id": "-_oA0gCemrZW"
      }
    },
    {
      "cell_type": "code",
      "source": [],
      "metadata": {
        "id": "IUEotCaZmw3_"
      },
      "execution_count": null,
      "outputs": []
    },
    {
      "cell_type": "markdown",
      "source": [
        "## Strings"
      ],
      "metadata": {
        "id": "-r1NcPA9mxiM"
      }
    },
    {
      "cell_type": "code",
      "source": [],
      "metadata": {
        "id": "kw7JyV1Jm0d6"
      },
      "execution_count": null,
      "outputs": []
    },
    {
      "cell_type": "markdown",
      "source": [
        "## Numbers"
      ],
      "metadata": {
        "id": "ETcFNWzCm1GE"
      }
    },
    {
      "cell_type": "code",
      "source": [],
      "metadata": {
        "id": "AGtOxioam3Dd"
      },
      "execution_count": null,
      "outputs": []
    },
    {
      "cell_type": "markdown",
      "source": [
        "## Booleans"
      ],
      "metadata": {
        "id": "DVEnC4jLm3ZK"
      }
    },
    {
      "cell_type": "code",
      "source": [],
      "metadata": {
        "id": "e51XBPrfm5Wf"
      },
      "execution_count": null,
      "outputs": []
    }
  ]
}